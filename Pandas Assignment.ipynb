{
 "cells": [
  {
   "cell_type": "code",
   "execution_count": null,
   "id": "0e8ade6c",
   "metadata": {},
   "outputs": [],
   "source": [
    "Assignment ON Pandas"
   ]
  },
  {
   "cell_type": "code",
   "execution_count": 2,
   "id": "bfd6f19a",
   "metadata": {},
   "outputs": [],
   "source": [
    "import pandas as pd"
   ]
  },
  {
   "cell_type": "code",
   "execution_count": 8,
   "id": "fb8610c2",
   "metadata": {},
   "outputs": [
    {
     "data": {
      "text/plain": [
       "0     40\n",
       "1      2\n",
       "2      4\n",
       "3    670\n",
       "4      7\n",
       "5     90\n",
       "6      1\n",
       "7     20\n",
       "dtype: int64"
      ]
     },
     "execution_count": 8,
     "metadata": {},
     "output_type": "execute_result"
    }
   ],
   "source": [
    " a = pd.Series([40,2,4,670,7,90,1,20]) # Assignment: create a series for 40,2,4,670,7,90,1,20\n"
   ]
  },
  {
   "cell_type": "code",
   "execution_count": 9,
   "id": "a3e6900d",
   "metadata": {},
   "outputs": [
    {
     "data": {
      "text/plain": [
       "1"
      ]
     },
     "execution_count": 9,
     "metadata": {},
     "output_type": "execute_result"
    }
   ],
   "source": [
    "a.ndim              #Assignment:checking all the properties for series"
   ]
  },
  {
   "cell_type": "code",
   "execution_count": 10,
   "id": "d844f137",
   "metadata": {},
   "outputs": [
    {
     "data": {
      "text/plain": [
       "5"
      ]
     },
     "execution_count": 10,
     "metadata": {},
     "output_type": "execute_result"
    }
   ],
   "source": [
    "a.size"
   ]
  },
  {
   "cell_type": "code",
   "execution_count": 11,
   "id": "67da5ee6",
   "metadata": {},
   "outputs": [
    {
     "data": {
      "text/plain": [
       "5"
      ]
     },
     "execution_count": 11,
     "metadata": {},
     "output_type": "execute_result"
    }
   ],
   "source": [
    "len(a)"
   ]
  },
  {
   "cell_type": "code",
   "execution_count": 12,
   "id": "6df2d5e9",
   "metadata": {},
   "outputs": [
    {
     "data": {
      "text/plain": [
       "5"
      ]
     },
     "execution_count": 12,
     "metadata": {},
     "output_type": "execute_result"
    }
   ],
   "source": [
    "a.count()     "
   ]
  },
  {
   "cell_type": "code",
   "execution_count": 13,
   "id": "dc773fbf",
   "metadata": {},
   "outputs": [
    {
     "data": {
      "text/plain": [
       "(5,)"
      ]
     },
     "execution_count": 13,
     "metadata": {},
     "output_type": "execute_result"
    }
   ],
   "source": [
    "a.shape           # its 1 D"
   ]
  },
  {
   "cell_type": "code",
   "execution_count": 14,
   "id": "45283ba5",
   "metadata": {},
   "outputs": [
    {
     "data": {
      "text/plain": [
       "dtype('int64')"
      ]
     },
     "execution_count": 14,
     "metadata": {},
     "output_type": "execute_result"
    }
   ],
   "source": [
    "a.dtype"
   ]
  },
  {
   "cell_type": "code",
   "execution_count": 17,
   "id": "aa325889",
   "metadata": {},
   "outputs": [
    {
     "data": {
      "text/plain": [
       "172"
      ]
     },
     "execution_count": 17,
     "metadata": {},
     "output_type": "execute_result"
    }
   ],
   "source": [
    "a.memory_usage()"
   ]
  },
  {
   "cell_type": "code",
   "execution_count": 18,
   "id": "93a21ef5",
   "metadata": {},
   "outputs": [
    {
     "data": {
      "text/plain": [
       "array([ 120,    1, 9000,   22,   18], dtype=int64)"
      ]
     },
     "execution_count": 18,
     "metadata": {},
     "output_type": "execute_result"
    }
   ],
   "source": [
    "a.values                # fetch data only"
   ]
  },
  {
   "cell_type": "code",
   "execution_count": 19,
   "id": "009a5dba",
   "metadata": {},
   "outputs": [
    {
     "data": {
      "text/plain": [
       "RangeIndex(start=0, stop=5, step=1)"
      ]
     },
     "execution_count": 19,
     "metadata": {},
     "output_type": "execute_result"
    }
   ],
   "source": [
    "a.index                  # fetch data only"
   ]
  },
  {
   "cell_type": "code",
   "execution_count": 22,
   "id": "4d87108f",
   "metadata": {},
   "outputs": [
    {
     "data": {
      "text/plain": [
       "1"
      ]
     },
     "execution_count": 22,
     "metadata": {},
     "output_type": "execute_result"
    }
   ],
   "source": [
    "a.min() or min(a)"
   ]
  },
  {
   "cell_type": "code",
   "execution_count": 24,
   "id": "a90f3ce5",
   "metadata": {},
   "outputs": [
    {
     "data": {
      "text/plain": [
       "9000"
      ]
     },
     "execution_count": 24,
     "metadata": {},
     "output_type": "execute_result"
    }
   ],
   "source": [
    "a.max() "
   ]
  },
  {
   "cell_type": "code",
   "execution_count": 30,
   "id": "8c7ecf91",
   "metadata": {},
   "outputs": [
    {
     "data": {
      "text/plain": [
       "0    Mangesh\n",
       "1          1\n",
       "2        2.j\n",
       "3     Roshni\n",
       "4     Roshni\n",
       "5    Suvarna\n",
       "dtype: object"
      ]
     },
     "execution_count": 30,
     "metadata": {},
     "output_type": "execute_result"
    }
   ],
   "source": [
    "n = pd.Series(['Mangesh','1','2.j','Roshni','Roshni','Suvarna'])\n",
    "n"
   ]
  },
  {
   "cell_type": "code",
   "execution_count": 29,
   "id": "ee89d2f7",
   "metadata": {},
   "outputs": [
    {
     "data": {
      "text/plain": [
       "0         1\n",
       "1    Roshni\n",
       "dtype: object"
      ]
     },
     "execution_count": 29,
     "metadata": {},
     "output_type": "execute_result"
    }
   ],
   "source": [
    "n.mode()            # Assignment: Check mode on Hetro. data"
   ]
  },
  {
   "cell_type": "code",
   "execution_count": null,
   "id": "3ba3ac64",
   "metadata": {},
   "outputs": [],
   "source": [
    "# Assignment: Create a Series of Names add some duplicate entries and check drop_duplicates()\n",
    "# with keep= First,Last and False"
   ]
  },
  {
   "cell_type": "code",
   "execution_count": 45,
   "id": "764ff738",
   "metadata": {},
   "outputs": [
    {
     "name": "stdout",
     "output_type": "stream",
     "text": [
      "0        kiran\n",
      "1     abhijeet\n",
      "2    yamin_sir\n",
      "3        megha\n",
      "4      pragati\n",
      "5       sachin\n",
      "6      pragati\n",
      "7        kiran\n",
      "8        kiran\n",
      "9         puja\n",
      "dtype: object\n"
     ]
    }
   ],
   "source": [
    "names = pd.Series(['kiran','abhijeet','yamin_sir','megha','pragati','sachin','pragati','kiran','kiran','puja'])\n",
    "print(names)"
   ]
  },
  {
   "cell_type": "code",
   "execution_count": 46,
   "id": "bd132684",
   "metadata": {},
   "outputs": [
    {
     "data": {
      "text/plain": [
       "0        kiran\n",
       "1     abhijeet\n",
       "2    yamin_sir\n",
       "3        megha\n",
       "4      pragati\n",
       "5       sachin\n",
       "9         puja\n",
       "dtype: object"
      ]
     },
     "execution_count": 46,
     "metadata": {},
     "output_type": "execute_result"
    }
   ],
   "source": [
    "names.drop_duplicates(keep='first')   #with keeping first"
   ]
  },
  {
   "cell_type": "code",
   "execution_count": 47,
   "id": "e6d648d6",
   "metadata": {},
   "outputs": [
    {
     "data": {
      "text/plain": [
       "1     abhijeet\n",
       "2    yamin_sir\n",
       "3        megha\n",
       "5       sachin\n",
       "6      pragati\n",
       "8        kiran\n",
       "9         puja\n",
       "dtype: object"
      ]
     },
     "execution_count": 47,
     "metadata": {},
     "output_type": "execute_result"
    }
   ],
   "source": [
    "names.drop_duplicates(keep='last')    #with keeping last"
   ]
  },
  {
   "cell_type": "code",
   "execution_count": 48,
   "id": "170f25ac",
   "metadata": {},
   "outputs": [
    {
     "data": {
      "text/plain": [
       "0        kiran\n",
       "1     abhijeet\n",
       "2    yamin_sir\n",
       "3        megha\n",
       "4      pragati\n",
       "5       sachin\n",
       "9         puja\n",
       "dtype: object"
      ]
     },
     "execution_count": 48,
     "metadata": {},
     "output_type": "execute_result"
    }
   ],
   "source": [
    "names.drop_duplicates()            #drops all duplicate values"
   ]
  },
  {
   "cell_type": "code",
   "execution_count": 49,
   "id": "7b630528",
   "metadata": {},
   "outputs": [
    {
     "data": {
      "text/plain": [
       "1     abhijeet\n",
       "2    yamin_sir\n",
       "3        megha\n",
       "5       sachin\n",
       "9         puja\n",
       "dtype: object"
      ]
     },
     "execution_count": 49,
     "metadata": {},
     "output_type": "execute_result"
    }
   ],
   "source": [
    "names.drop_duplicates(keep=False)"
   ]
  },
  {
   "cell_type": "code",
   "execution_count": null,
   "id": "3e663541",
   "metadata": {},
   "outputs": [],
   "source": []
  }
 ],
 "metadata": {
  "kernelspec": {
   "display_name": "Python 3 (ipykernel)",
   "language": "python",
   "name": "python3"
  },
  "language_info": {
   "codemirror_mode": {
    "name": "ipython",
    "version": 3
   },
   "file_extension": ".py",
   "mimetype": "text/x-python",
   "name": "python",
   "nbconvert_exporter": "python",
   "pygments_lexer": "ipython3",
   "version": "3.11.3"
  }
 },
 "nbformat": 4,
 "nbformat_minor": 5
}
